{
 "cells": [
  {
   "cell_type": "code",
   "execution_count": 22,
   "metadata": {},
   "outputs": [],
   "source": [
    "lexi =  open('lexicon.txt','r') \n",
    "lex = []\n",
    "for x in lexi:\n",
    "    lex.append(x.split())\n",
    "lexi.close()\n",
    "newlex = []\n",
    "for i in range(len(lex)):\n",
    "    newlex.append(lex[i][1:])\n",
    "phones = []\n",
    "for x in range(len(newlex)):\n",
    "    for y in range(len(newlex[x])):\n",
    "        if newlex[x][y] in phones:\n",
    "            continue\n",
    "        else:\n",
    "            phones.append(newlex[x][y])\n",
    "with open('nonsilence_phones.txt','w') as writer:\n",
    "    for a in phones:\n",
    "        writer.write(a)\n",
    "        writer.write('\\n')\n",
    "    "
   ]
  },
  {
   "cell_type": "code",
   "execution_count": null,
   "metadata": {},
   "outputs": [],
   "source": []
  }
 ],
 "metadata": {
  "kernelspec": {
   "display_name": "Python 3",
   "language": "python",
   "name": "python3"
  },
  "language_info": {
   "codemirror_mode": {
    "name": "ipython",
    "version": 3
   },
   "file_extension": ".py",
   "mimetype": "text/x-python",
   "name": "python",
   "nbconvert_exporter": "python",
   "pygments_lexer": "ipython3",
   "version": "3.7.3"
  }
 },
 "nbformat": 4,
 "nbformat_minor": 2
}
